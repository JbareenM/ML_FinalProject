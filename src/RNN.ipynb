{
 "cells": [
  {
   "cell_type": "code",
   "execution_count": 24,
   "metadata": {},
   "outputs": [
    {
     "name": "stdout",
     "output_type": "stream",
     "text": [
      "(2682, 150, 150)\n",
      "(150, 150)\n",
      "Train on 2682 samples, validate on 624 samples\n",
      "Epoch 1/10\n",
      "2682/2682 [==============================] - 20s 8ms/sample - loss: 0.6810 - accuracy: 0.6152 - val_loss: 0.7241 - val_accuracy: 0.5561\n",
      "Epoch 2/10\n",
      "2682/2682 [==============================] - 18s 7ms/sample - loss: 2.0734 - accuracy: 0.6290 - val_loss: 6.1734 - val_accuracy: 0.6170\n",
      "Epoch 3/10\n",
      "2682/2682 [==============================] - 19s 7ms/sample - loss: 7.9268 - accuracy: 0.5082 - val_loss: 8.1365 - val_accuracy: 0.4952\n",
      "Epoch 4/10\n",
      "2682/2682 [==============================] - 19s 7ms/sample - loss: 7.9570 - accuracy: 0.5063 - val_loss: 7.0775 - val_accuracy: 0.5609\n",
      "Epoch 5/10\n",
      "2682/2682 [==============================] - 19s 7ms/sample - loss: 7.9268 - accuracy: 0.5082 - val_loss: 7.6716 - val_accuracy: 0.5240\n",
      "Epoch 6/10\n",
      "2682/2682 [==============================] - 19s 7ms/sample - loss: 8.0530 - accuracy: 0.5004 - val_loss: 7.7491 - val_accuracy: 0.5192\n",
      "Epoch 7/10\n",
      "2682/2682 [==============================] - 19s 7ms/sample - loss: 7.9268 - accuracy: 0.5082 - val_loss: 7.7491 - val_accuracy: 0.5192\n",
      "Epoch 8/10\n",
      "2682/2682 [==============================] - 19s 7ms/sample - loss: 7.8307 - accuracy: 0.5142 - val_loss: 7.7491 - val_accuracy: 0.5192\n",
      "Epoch 9/10\n",
      "2682/2682 [==============================] - 18s 7ms/sample - loss: 8.1732 - accuracy: 0.4929 - val_loss: 7.7491 - val_accuracy: 0.5192\n",
      "Epoch 10/10\n",
      "2682/2682 [==============================] - 19s 7ms/sample - loss: 8.0951 - accuracy: 0.4978 - val_loss: 7.4650 - val_accuracy: 0.5369\n"
     ]
    }
   ],
   "source": [
    "import tensorflow as tf\n",
    "import numpy as np\n",
    "import random\n",
    "from tensorflow.keras.layers import Dense, Dropout, LSTM, Flatten\n",
    "from tensorflow.keras.models import Sequential\n",
    "\n",
    "if __name__ == '__main__':\n",
    "    x_train = np.load(\"../saved_data/x_train.npy\", allow_pickle=True)\n",
    "    x_test = np.load(\"../saved_data/x_test.npy\", allow_pickle=True)\n",
    "    y_train = np.load(\"../saved_data/y_train.npy\", allow_pickle=True)\n",
    "    y_test = np.load(\"../saved_data/y_test.npy\", allow_pickle=True)\n",
    "\n",
    "    \n",
    "    x_train = x_train/255.0\n",
    "    x_test = x_test/255.0\n",
    "\n",
    "    print(x_train.shape)\n",
    "    print(x_train[0].shape)\n",
    "\n",
    "    model = Sequential()\n",
    "    model.add(LSTM(128, input_shape=(x_train.shape[1:]), activation='relu', return_sequences=True))\n",
    "    model.add(Dropout(0.2))\n",
    "\n",
    "    model.add(LSTM(128, activation='relu'))\n",
    "    model.add(Dropout(0.1))\n",
    "\n",
    "    model.add(Dense(32, activation='relu'))\n",
    "    model.add(Dropout(0.2))\n",
    "\n",
    "    model.add(Dense(2, activation='softmax'))\n",
    "\n",
    "    opt = tf.keras.optimizers.Adam(lr=0.0005, decay=1e-6)\n",
    "\n",
    "    model.compile(loss='kullback_leibler_divergence',optimizer=opt, metrics=['accuracy'])\n",
    "\n",
    "    model.fit(x_train, y_train, epochs=10, validation_data=(x_test, y_test))\n",
    "    "
   ]
  },
  {
   "cell_type": "code",
   "execution_count": null,
   "metadata": {},
   "outputs": [],
   "source": []
  }
 ],
 "metadata": {
  "kernelspec": {
   "display_name": "Python 3",
   "language": "python",
   "name": "python3"
  },
  "language_info": {
   "codemirror_mode": {
    "name": "ipython",
    "version": 3
   },
   "file_extension": ".py",
   "mimetype": "text/x-python",
   "name": "python",
   "nbconvert_exporter": "python",
   "pygments_lexer": "ipython3",
   "version": "3.6.5"
  }
 },
 "nbformat": 4,
 "nbformat_minor": 4
}
