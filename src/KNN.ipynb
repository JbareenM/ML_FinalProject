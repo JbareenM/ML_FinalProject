{
 "cells": [
  {
   "cell_type": "code",
   "execution_count": 25,
   "metadata": {},
   "outputs": [],
   "source": [
    "from sklearn.neighbors import KNeighborsClassifier\n",
    "from sklearn.model_selection import train_test_split\n",
    "from imutils import paths\n",
    "import numpy as np\n",
    "import argparse\n",
    "import imutils\n",
    "import cv2\n",
    "import os\n",
    "from tqdm import tqdm\n",
    "import random"
   ]
  },
  {
   "cell_type": "code",
   "execution_count": 19,
   "metadata": {},
   "outputs": [],
   "source": [
    "def image_to_feature_vector(image, size=(150, 150)):\n",
    "    return cv2.resize(image, size).flatten()\n",
    "\n",
    "def extract_color_histogram(image, bins=(8, 8, 8)):\n",
    "    hsv = cv2.cvtColor(image, cv2.COLOR_BGR2HSV)\n",
    "    hist = cv2.calcHist([hsv], [0, 1, 2], None, bins, [0, 180, 0, 256, 0, 256])\n",
    "    if imutils.is_cv2():\n",
    "        hist = cv2.normalize(hist)\n",
    "    else:\n",
    "        cv2.normalize(hist, hist)\n",
    "    return hist.flatten()"
   ]
  },
  {
   "cell_type": "code",
   "execution_count": 20,
   "metadata": {},
   "outputs": [
    {
     "name": "stderr",
     "output_type": "stream",
     "text": [
      "100%|██████████| 1341/1341 [00:40<00:00, 33.29it/s]\n",
      " 35%|███▍      | 1341/3875 [00:14<00:27, 91.87it/s] \n"
     ]
    }
   ],
   "source": [
    "IMG_SIZE = 150\n",
    "categories = [\"NORMAL\", \"PNEUMONIA\"]\n",
    "\n",
    "def create_training_data(DATADIR=\"../chest_xray/train\"):\n",
    "    training_data = []\n",
    "    for category in categories:\n",
    "\n",
    "        path = os.path.join(DATADIR,category)\n",
    "        class_num = categories.index(category)\n",
    "        count = 0\n",
    "        for img in tqdm(os.listdir(path)):\n",
    "            count += 1\n",
    "            if class_num == 1 and count == 1342:\n",
    "                break\n",
    "            try:\n",
    "                image = cv2.imread(os.path.join(path, img))\n",
    "                if class_num == 0:\n",
    "                    label = [1, 0]\n",
    "                else:\n",
    "                    label = [0, 1]\n",
    "                pixels = image_to_feature_vector(image)\n",
    "                hist = extract_color_histogram(image)\n",
    "\n",
    "                training_data.append([pixels, hist, label])\n",
    "            except Exception as e:\n",
    "                pass\n",
    "\n",
    "    return training_data\n",
    "\n",
    "training_data = create_training_data(\"../chest_xray/train\")"
   ]
  },
  {
   "cell_type": "code",
   "execution_count": 21,
   "metadata": {},
   "outputs": [
    {
     "name": "stderr",
     "output_type": "stream",
     "text": [
      "100%|██████████| 234/234 [00:05<00:00, 40.05it/s]\n",
      "100%|██████████| 390/390 [00:03<00:00, 111.57it/s]\n"
     ]
    }
   ],
   "source": [
    "test_data = create_training_data(\"../chest_xray/test\")"
   ]
  },
  {
   "cell_type": "code",
   "execution_count": 22,
   "metadata": {},
   "outputs": [
    {
     "name": "stderr",
     "output_type": "stream",
     "text": [
      "100%|██████████| 8/8 [00:00<00:00, 45.19it/s]\n",
      "100%|██████████| 8/8 [00:00<00:00, 98.55it/s]\n"
     ]
    }
   ],
   "source": [
    "val_data = create_training_data(\"../chest_xray/val\")"
   ]
  },
  {
   "cell_type": "code",
   "execution_count": 26,
   "metadata": {},
   "outputs": [],
   "source": [
    "x_train, x_test, x_val = [], [], []\n",
    "y_train, y_test, y_val = [], [], []\n",
    "\n",
    "x_train_pixel, x_test_pixel, x_val_pixel = [], [], []\n"
   ]
  },
  {
   "cell_type": "code",
   "execution_count": 27,
   "metadata": {},
   "outputs": [],
   "source": [
    "random.shuffle(training_data)\n",
    "random.shuffle(test_data)\n",
    "random.shuffle(val_data)"
   ]
  },
  {
   "cell_type": "code",
   "execution_count": 28,
   "metadata": {},
   "outputs": [],
   "source": [
    "for pixel,features,label in training_data:\n",
    "    x_train.append(features)\n",
    "    y_train.append(label)\n",
    "    x_train_pixel.append(pixel)\n",
    "    \n",
    "for pixel,features,label in test_data:\n",
    "    x_test.append(features)\n",
    "    y_test.append(label)\n",
    "    x_test_pixel.append(pixel)\n",
    "\n",
    "for pixel,features,label in val_data:\n",
    "    x_val.append(features)\n",
    "    y_val.append(label)\n",
    "    x_val_pixel.append(pixel)\n",
    "\n",
    "np.save(\"../saved_data/KNN_saved/x_train_pixel.npy\", x_train_pixel)\n",
    "np.save(\"../saved_data/KNN_saved/x_train.npy\", x_train)\n",
    "np.save(\"../saved_data/KNN_saved/y_train.npy\", y_train)\n",
    "\n",
    "np.save(\"../saved_data/KNN_saved/x_test_pixel.npy\", x_test_pixel)\n",
    "np.save(\"../saved_data/KNN_saved/x_test.npy\", x_test)\n",
    "np.save(\"../saved_data/KNN_saved/y_test.npy\", y_test)\n",
    "\n",
    "np.save(\"../saved_data/KNN_saved/x_val_pixel.npy\", x_val_pixel)\n",
    "np.save(\"../saved_data/KNN_saved/x_val.npy\", x_val)\n",
    "np.save(\"../saved_data/KNN_saved/y_val.npy\", y_val)"
   ]
  },
  {
   "cell_type": "code",
   "execution_count": 34,
   "metadata": {},
   "outputs": [
    {
     "name": "stdout",
     "output_type": "stream",
     "text": [
      "evaluating histogram accuracy...\n",
      "histogram accuracy: 73.72%\n",
      "evaluating raw pixel accuracy...\n",
      "raw pixel accuracy: 78.69%\n"
     ]
    }
   ],
   "source": [
    "x_train = np.load(\"../saved_data/KNN_saved/x_train.npy\", allow_pickle=True)\n",
    "x_test = np.load(\"../saved_data/KNN_saved/x_test.npy\", allow_pickle=True)\n",
    "x_train_pixel = np.load(\"../saved_data/KNN_saved/x_train_pixel.npy\", allow_pickle=True)\n",
    "x_test_pixel = np.load(\"../saved_data/KNN_saved/x_test_pixel.npy\", allow_pickle=True)\n",
    "y_train = np.load(\"../saved_data/KNN_saved/y_train.npy\", allow_pickle=True)\n",
    "y_test = np.load(\"../saved_data/KNN_saved/y_test.npy\", allow_pickle=True)\n",
    "\n",
    "print(\"evaluating histogram accuracy...\")\n",
    "model = KNeighborsClassifier(n_neighbors=3,n_jobs=1)\n",
    "model.fit(x_train, y_train)\n",
    "acc = model.score(x_test, y_test)\n",
    "print(\"histogram accuracy: {:.2f}%\".format(acc * 100))\n",
    "\n",
    "print(\"evaluating raw pixel accuracy...\")\n",
    "model = KNeighborsClassifier(n_neighbors=1,n_jobs=1)\n",
    "model.fit(x_train_pixel, y_train)\n",
    "acc = model.score(x_test_pixel, y_test)\n",
    "print(\"raw pixel accuracy: {:.2f}%\".format(acc * 100))\n"
   ]
  },
  {
   "cell_type": "code",
   "execution_count": null,
   "metadata": {},
   "outputs": [],
   "source": []
  },
  {
   "cell_type": "code",
   "execution_count": null,
   "metadata": {},
   "outputs": [],
   "source": []
  }
 ],
 "metadata": {
  "kernelspec": {
   "display_name": "Python 3",
   "language": "python",
   "name": "python3"
  },
  "language_info": {
   "codemirror_mode": {
    "name": "ipython",
    "version": 3
   },
   "file_extension": ".py",
   "mimetype": "text/x-python",
   "name": "python",
   "nbconvert_exporter": "python",
   "pygments_lexer": "ipython3",
   "version": "3.6.5"
  }
 },
 "nbformat": 4,
 "nbformat_minor": 4
}
