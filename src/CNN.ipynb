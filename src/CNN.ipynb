{
 "cells": [
  {
   "cell_type": "code",
   "execution_count": 1,
   "metadata": {},
   "outputs": [],
   "source": [
    "import tensorflow as tf\n",
    "from tensorflow.keras.models import Sequential\n",
    "from tensorflow.keras.layers import Dense, Dropout, Activation, Flatten, Conv2D, MaxPooling2D\n",
    "import random\n",
    "import cv2\n",
    "import numpy as np\n",
    "import matplotlib.pyplot as plt\n",
    "import os\n",
    "from tqdm import tqdm"
   ]
  },
  {
   "cell_type": "code",
   "execution_count": 2,
   "metadata": {},
   "outputs": [
    {
     "name": "stderr",
     "output_type": "stream",
     "text": [
      "100%|██████████| 1341/1341 [00:20<00:00, 66.45it/s]\n",
      " 35%|███▍      | 1341/3875 [00:05<00:09, 253.61it/s]\n"
     ]
    }
   ],
   "source": [
    "IMG_SIZE = 150\n",
    "categories = [\"NORMAL\", \"PNEUMONIA\"]\n",
    "\n",
    "def create_training_data(DATADIR=\"../chest_xray/train\"):\n",
    "    training_data = []\n",
    "    for category in categories:\n",
    "\n",
    "        path = os.path.join(DATADIR,category)\n",
    "        class_num = categories.index(category) \n",
    "        count = 0\n",
    "        for img in tqdm(os.listdir(path)):\n",
    "            count += 1\n",
    "            if class_num == 1 and count == 1342:\n",
    "                break\n",
    "            try:\n",
    "                img_array = cv2.imread(os.path.join(path,img) ,cv2.IMREAD_GRAYSCALE)\n",
    "                new_array = cv2.resize(img_array, (IMG_SIZE, IMG_SIZE)) \n",
    "                if class_num == 0:\n",
    "                    array = [1, 0]\n",
    "                else:\n",
    "                    array = [0, 1]\n",
    "                training_data.append([new_array, array])\n",
    "            except Exception as e: \n",
    "                pass\n",
    "\n",
    "    return training_data\n",
    "\n",
    "training_data = create_training_data(\"../chest_xray/train\")"
   ]
  },
  {
   "cell_type": "code",
   "execution_count": 3,
   "metadata": {},
   "outputs": [
    {
     "name": "stderr",
     "output_type": "stream",
     "text": [
      "100%|██████████| 234/234 [00:02<00:00, 105.48it/s]\n",
      "100%|██████████| 390/390 [00:01<00:00, 292.78it/s]\n"
     ]
    }
   ],
   "source": [
    "test_data = create_training_data(\"../chest_xray/test\")"
   ]
  },
  {
   "cell_type": "code",
   "execution_count": 4,
   "metadata": {},
   "outputs": [
    {
     "name": "stderr",
     "output_type": "stream",
     "text": [
      "100%|██████████| 8/8 [00:00<00:00, 101.61it/s]\n",
      "100%|██████████| 8/8 [00:00<00:00, 250.53it/s]\n"
     ]
    }
   ],
   "source": [
    "val_data = create_training_data(\"../chest_xray/val\")"
   ]
  },
  {
   "cell_type": "code",
   "execution_count": 5,
   "metadata": {},
   "outputs": [],
   "source": [
    "random.shuffle(training_data)\n",
    "random.shuffle(test_data)\n",
    "random.shuffle(val_data)"
   ]
  },
  {
   "cell_type": "code",
   "execution_count": 6,
   "metadata": {},
   "outputs": [],
   "source": [
    "x_train, x_test, x_val = [], [], []\n",
    "y_train, y_test, y_val = [], [], []\n"
   ]
  },
  {
   "cell_type": "code",
   "execution_count": 7,
   "metadata": {},
   "outputs": [],
   "source": [
    "for features,label in training_data:\n",
    "    x_train.append(features)\n",
    "    y_train.append(label)\n",
    "    \n",
    "for features,label in test_data:\n",
    "    x_test.append(features)\n",
    "    y_test.append(label)\n",
    "\n",
    "for features,label in val_data:\n",
    "    x_val.append(features)\n",
    "    y_val.append(label)\n"
   ]
  },
  {
   "cell_type": "code",
   "execution_count": 8,
   "metadata": {},
   "outputs": [],
   "source": [
    "np.save(\"../saved_data/x_train.npy\", x_train)\n",
    "np.save(\"../saved_data/y_train.npy\", y_train)\n",
    "\n",
    "np.save(\"../saved_data/x_test.npy\", x_test)\n",
    "np.save(\"../saved_data/y_test.npy\", y_test)\n",
    "\n",
    "np.save(\"../saved_data/x_val.npy\", x_val)\n",
    "np.save(\"../saved_data/y_val.npy\", y_val)\n",
    "\n",
    "x_train = np.array(x_train).reshape(-1, IMG_SIZE, IMG_SIZE, 1)\n",
    "y_train = np.array(y_train)\n",
    "\n",
    "x_test = np.array(x_test).reshape(-1, IMG_SIZE, IMG_SIZE, 1)\n",
    "y_test = np.array(y_test)\n",
    "\n",
    "x_val = np.array(x_val).reshape(-1, IMG_SIZE, IMG_SIZE, 1)\n",
    "y_val = np.array(y_val)\n",
    "\n",
    "x_train = x_train/255.\n",
    "x_test = x_test/255.\n",
    "x_val = x_val/255."
   ]
  },
  {
   "cell_type": "code",
   "execution_count": 9,
   "metadata": {},
   "outputs": [
    {
     "name": "stdout",
     "output_type": "stream",
     "text": [
      "Train on 2682 samples, validate on 16 samples\n",
      "Epoch 1/3\n",
      "2682/2682 [==============================] - 56s 21ms/sample - loss: 0.6950 - accuracy: 0.5007 - val_loss: 0.6935 - val_accuracy: 0.5000\n",
      "Epoch 2/3\n",
      "2682/2682 [==============================] - 56s 21ms/sample - loss: 0.5769 - accuracy: 0.7144 - val_loss: 0.4551 - val_accuracy: 0.8125\n",
      "Epoch 3/3\n",
      "2682/2682 [==============================] - 53s 20ms/sample - loss: 0.2833 - accuracy: 0.9016 - val_loss: 0.2001 - val_accuracy: 0.8750\n"
     ]
    },
    {
     "data": {
      "text/plain": [
       "<tensorflow.python.keras.callbacks.History at 0x7f9ca8cd8c50>"
      ]
     },
     "execution_count": 9,
     "metadata": {},
     "output_type": "execute_result"
    }
   ],
   "source": [
    "model = Sequential()\n",
    "model.add(Conv2D(16, (3, 3), activation='relu', padding=\"same\", input_shape=x_train.shape[1:]))\n",
    "model.add(Conv2D(16, (3, 3), padding=\"same\", activation='relu'))\n",
    "model.add(MaxPooling2D(pool_size=(2, 2)))\n",
    "\n",
    "model.add(Conv2D(32, (3, 3), activation='relu', padding=\"same\", input_shape=x_train.shape[1:]))\n",
    "model.add(Conv2D(32, (3, 3), padding=\"same\", activation='relu'))\n",
    "model.add(MaxPooling2D(pool_size=(2, 2)))\n",
    "\n",
    "model.add(Conv2D(64, (3, 3), activation='relu', padding=\"same\"))\n",
    "model.add(Conv2D(64, (3, 3), padding=\"same\", activation='relu'))\n",
    "model.add(MaxPooling2D(pool_size=(2, 2)))\n",
    "\n",
    "model.add(Conv2D(96, (3, 3), dilation_rate=(2, 2), activation='relu', padding=\"same\"))\n",
    "model.add(Conv2D(96, (3, 3), padding=\"valid\", activation='relu'))\n",
    "model.add(MaxPooling2D(pool_size=(2, 2)))\n",
    "\n",
    "model.add(Conv2D(128, (3, 3), dilation_rate=(2, 2), activation='relu', padding=\"same\"))\n",
    "model.add(Conv2D(128, (3, 3), padding=\"valid\", activation='relu'))\n",
    "model.add(MaxPooling2D(pool_size=(2, 2)))\n",
    "\n",
    "model.add(Flatten())\n",
    "\n",
    "model.add(Dense(64, activation='relu'))\n",
    "model.add(Dropout(0.4))\n",
    "model.add(Dense(2 , activation='softmax'))\n",
    "\n",
    "model.compile(loss='categorical_crossentropy',\n",
    "              optimizer='adam',\n",
    "              metrics=['accuracy'])\n",
    "\n",
    "model.fit(x_train, y_train, batch_size=32, epochs=3, validation_data=(x_val, y_val))"
   ]
  },
  {
   "cell_type": "code",
   "execution_count": null,
   "metadata": {},
   "outputs": [],
   "source": []
  },
  {
   "cell_type": "code",
   "execution_count": null,
   "metadata": {},
   "outputs": [],
   "source": []
  },
  {
   "cell_type": "code",
   "execution_count": null,
   "metadata": {},
   "outputs": [],
   "source": []
  },
  {
   "cell_type": "code",
   "execution_count": null,
   "metadata": {},
   "outputs": [],
   "source": []
  }
 ],
 "metadata": {
  "kernelspec": {
   "display_name": "Python 3",
   "language": "python",
   "name": "python3"
  },
  "language_info": {
   "codemirror_mode": {
    "name": "ipython",
    "version": 3
   },
   "file_extension": ".py",
   "mimetype": "text/x-python",
   "name": "python",
   "nbconvert_exporter": "python",
   "pygments_lexer": "ipython3",
   "version": "3.6.5"
  }
 },
 "nbformat": 4,
 "nbformat_minor": 4
}
